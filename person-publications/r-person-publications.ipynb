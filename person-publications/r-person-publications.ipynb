{
  "cells": [
    {
      "cell_type": "markdown",
      "source": [
        "# Publications, datasets, and software by a particular researcher\n",
        "\n",
        "This notebook uses the [DataCite GraphQL API](https://api.datacite.org/graphql) to fetch all DataCite references of the DataCite publications, datasets and software authored by a particular researcher, using his/her ORCID ID."
      ],
      "metadata": {}
    },
    {
      "cell_type": "code",
      "source": [
        "# Prepare the R graphql client.\n",
        "\n",
        "#install.packages(\"httr\")\n",
        "#install.packages(\"ghql\")\n",
        "#install.packages(\"jsonlite\")\n",
        "#install.packages(\"IRdisplay\")\n",
        "#install.packages(\"dplyr\")\n",
        "#install.packages(\"igraph\")\n",
        "#install.packages(\"RColorBrewer\")\n",
        "\n",
        "library(\"httr\")\n",
        "library(\"ghql\")\n",
        "library(\"jsonlite\")\n",
        "library(\"IRdisplay\")\n",
        "library(\"dplyr\")\n",
        "library(\"igraph\")\n",
        "library(\"RColorBrewer\")\n",
        "\n",
        "cli <- GraphqlClient$new(\n",
        "  url = \"https://api.datacite.org/graphql\"\n",
        ")\n",
        "qry <- Query$new()"
      ],
      "outputs": [
        {
          "output_type": "stream",
          "name": "stderr",
          "text": [
            "\n",
            "Attaching package: 'dplyr'\n",
            "\n",
            "The following objects are masked from 'package:stats':\n",
            "\n",
            "    filter, lag\n",
            "\n",
            "The following objects are masked from 'package:base':\n",
            "\n",
            "    intersect, setdiff, setequal, union\n",
            "\n",
            "\n",
            "Attaching package: 'igraph'\n",
            "\n",
            "The following objects are masked from 'package:dplyr':\n",
            "\n",
            "    as_data_frame, groups, union\n",
            "\n",
            "The following objects are masked from 'package:stats':\n",
            "\n",
            "    decompose, spectrum\n",
            "\n",
            "The following object is masked from 'package:base':\n",
            "\n",
            "    union\n",
            "\n"
          ]
        }
      ],
      "execution_count": 1,
      "metadata": {
        "collapsed": false,
        "outputHidden": false,
        "inputHidden": false
      }
    },
    {
      "cell_type": "code",
      "source": [
        "# Generate the GraphQL query: find the researcher by ORCID ID, then fetch the first 50 publications, datasets and software with DataCite DOIs linked to that ORCID account.\n",
        "\n",
        "query <- '{\n",
        "  person(id: \"https://orcid.org/0000-0003-1419-2405\") {\n",
        "    id\n",
        "    type\n",
        "    name\n",
        "    publications(first: 50) {\n",
        "      totalCount\n",
        "      nodes {\n",
        "        id\n",
        "        type\n",
        "        relatedIdentifiers {\n",
        "          relatedIdentifier\n",
        "        }\n",
        "      }\n",
        "      edges {\n",
        "        sourceId\n",
        "        targetId\n",
        "      }\n",
        "    }\n",
        "    datasets(first: 50) {\n",
        "      totalCount\n",
        "      nodes {\n",
        "        id\n",
        "        type\n",
        "        relatedIdentifiers {\n",
        "          relatedIdentifier\n",
        "        }\n",
        "      }\n",
        "      edges {\n",
        "        sourceId\n",
        "        targetId\n",
        "      }\n",
        "    }\n",
        "    softwareSourceCodes(first: 50) {\n",
        "      totalCount\n",
        "      nodes {\n",
        "        id\n",
        "        type\n",
        "        relatedIdentifiers {\n",
        "          relatedIdentifier\n",
        "        }\n",
        "      }\n",
        "      edges {\n",
        "        sourceId\n",
        "        targetId\n",
        "      }\n",
        "    }\n",
        "  }\n",
        "}'"
      ],
      "outputs": [],
      "execution_count": 2,
      "metadata": {
        "collapsed": false,
        "outputHidden": false,
        "inputHidden": false
      }
    },
    {
      "cell_type": "code",
      "source": [
        "# Run the query and parse the JSON response\n",
        "\n",
        "qry$query('getdata', query)\n",
        "data <- fromJSON(cli$exec(qry$queries$getdata))"
      ],
      "outputs": [],
      "execution_count": 3,
      "metadata": {
        "collapsed": false,
        "outputHidden": false,
        "inputHidden": false
      }
    },
    {
      "cell_type": "code",
      "source": [
        "# Get the name of the researcher with ORCID ID https://orcid.org/0000-0003-1419-2405\n",
        "\n",
        "display_markdown(data$data$person$name)"
      ],
      "outputs": [
        {
          "output_type": "display_data",
          "data": {
            "text/markdown": [
              "Martin Fenner"
            ]
          },
          "metadata": {}
        }
      ],
      "execution_count": 4,
      "metadata": {
        "collapsed": false,
        "outputHidden": false,
        "inputHidden": false
      }
    },
    {
      "cell_type": "code",
      "source": [
        "# Get the number of publications\n",
        "\n",
        "display_json(data$data$person$publications$totalCount)\n",
        "display_json(data$data$person$datasets$totalCount)\n",
        "display_json(data$data$person$softwareSourceCodes$totalCount)"
      ],
      "outputs": [
        {
          "output_type": "display_data",
          "data": {
            "application/json": 21
          },
          "metadata": {}
        },
        {
          "output_type": "display_data",
          "data": {
            "application/json": 1
          },
          "metadata": {}
        },
        {
          "output_type": "display_data",
          "data": {
            "application/json": 2
          },
          "metadata": {}
        }
      ],
      "execution_count": 5,
      "metadata": {
        "collapsed": false,
        "outputHidden": false,
        "inputHidden": false
      }
    },
    {
      "cell_type": "code",
      "source": [
        "# generate data frame for nodes\n",
        "people <- data.frame(id=data$data$person$id, pid_type=data$data$person$type)\n",
        "publications <- data.frame(id=data$data$person$publications$nodes$id, pid_type=c('Publication'))\n",
        "datasets <- data.frame(id=data$data$person$datasets$nodes$id, pid_type=data$data$person$datasets$nodes$type)\n",
        "softwareSourceCodes <- data.frame(id=data$data$person$softwareSourceCodes$nodes$id, pid_type=data$data$person$softwareSourceCodes$nodes$type)\n",
        "publication_references <- data.frame(id=bind_rows(data$data$person$publications$nodes$relatedIdentifiers)[,1], pid_type=c('Publication'))\n",
        "dataset_references <- data.frame(id=bind_rows(data$data$person$datasets$nodes$relatedIdentifiers)[,1], pid_type=c('Publication'))\n",
        "#software_references <- data.frame(id=bind_rows(data$data$person$softwareSourceCodes$nodes$relatedIdentifiers)[,1], pid_type=c('Publication'))\n",
        "nodes <- unique(rbind(people, publications, datasets, softwareSourceCodes, publication_references, dataset_references))\n",
        "\n",
        "publication_edges <- data.frame(to=publications[,1], from=data$data$person$id)\n",
        "dataset_edges <- data.frame(to=datasets[,1], from=data$data$person$id)\n",
        "software_edges <- data.frame(to=softwareSourceCodes[,1], from=data$data$person$id)\n",
        "edges <- unique(rbind(publication_edges, dataset_edges, software_edges))\n",
        "    \n",
        "# loop through nodes, as they can have more than one edge\n",
        "publications_with_references <- bind_rows(data$data$person$publications$nodes) %>% filter(lengths(relatedIdentifiers) != 0)\n",
        "datasets_with_references <- bind_rows(data$data$person$datasets$nodes) %>% filter(lengths(relatedIdentifiers) != 0)\n",
        "softwareSourceCodes_with_references <- bind_rows(data$data$person$softwareSourceCodes$nodes) %>% filter(lengths(relatedIdentifiers) != 0)\n",
        "\n",
        "for (i in 1:nrow(publications_with_references)) {\n",
        "  row <- data.frame(to=unlist(publications_with_references[i,3]), from=publications_with_references[i,1])\n",
        "  edges <- unique(rbind(edges, row))\n",
        "}\n",
        "\n",
        "for (i in 1:nrow(datasets_with_references)) {\n",
        "  row <- data.frame(to=unlist(datasets_with_references[i,3]), from=datasets_with_references[i,1])\n",
        "  edges <- unique(rbind(edges, row))\n",
        "}\n",
        "\n",
        "#for (i in 1:nrow(softwareSourceCodes_with_references)) {\n",
        "#  row <- data.frame(to=unlist(softwareSourceCodes_with_references[i,3]), from=softwareSourceCodes_with_references[i,1])\n",
        "#  edges <- unique(rbind(edges, row))\n",
        "#}\n",
        "\n",
        "# express DOIs as URLs\n",
        "nodes <- nodes %>% mutate(id = ifelse(startsWith(as.character(id), '10.'), paste('https://doi.org/', id, sep=''), as.character(id)))\n",
        "edges <- edges %>% mutate(to = ifelse(startsWith(as.character(to), '10.'), paste('https://doi.org/', to, sep=''), as.character(to)))\n",
        "\n",
        "# remove duplicates\n",
        "nodes <- nodes %>% distinct(id, .keep_all = TRUE)\n",
        "\n",
        "g <- graph_from_data_frame(d=unique(edges), vertices=unique(nodes))\n",
        "\n",
        "# add node colors\n",
        "cols <- brewer.pal(12, \"Set3\")\n",
        "V(g)[(V(g)$pid_type==\"Publication\")]$color<-cols[5]\n",
        "V(g)[(V(g)$pid_type==\"Person\")]$color<-cols[1]\n",
        "V(g)[(V(g)$pid_type==\"Dataset\")]$color<-cols[4]\n",
        "V(g)[(V(g)$pid_type==\"SoftwareSourceCode\")]$color<-cols[10]\n",
        "\n",
        "# add labels to selected nodes\n",
        "V(g)$label=NA\n",
        "\n",
        "V(g)$size <- 5\n",
        "E(g)$arrow.mode <- 0\n",
        "l <- layout_with_dh(g)\n",
        "plot(g, layout=l, arrow.mode=0)\n",
        "\n",
        "# Add a legend\n",
        "# pid_type is sorted alphabetically: 'Dataset' 'Person' 'Publication' 'SoftwareSourceCode'\n",
        "legend(\"bottomleft\", legend=levels(as.factor(V(g)$pid_type)), col = cols[c(4,1,5,10)], bty = \"n\", pch=20 , pt.cex = 2.5, cex = 1, horiz = FALSE, inset = c(0.1, -0.1))"
      ],
      "outputs": [
        {
          "output_type": "error",
          "ename": "ERROR",
          "evalue": "Error in `[.data.frame`(softwareSourceCodes, , 1): undefined columns selected\n",
          "traceback": [
            "Error in `[.data.frame`(softwareSourceCodes, , 1): undefined columns selected\nTraceback:\n",
            "1. data.frame(to = softwareSourceCodes[, 1], from = data$data$person$id)",
            "2. softwareSourceCodes[, 1]",
            "3. `[.data.frame`(softwareSourceCodes, , 1)",
            "4. stop(\"undefined columns selected\")"
          ]
        }
      ],
      "execution_count": 6,
      "metadata": {
        "collapsed": false,
        "outputHidden": false,
        "inputHidden": false
      }
    },
    {
      "cell_type": "code",
      "source": [
        "# Generate a list of formatted citations in APA format for the publications, datasets and software\n",
        "\n",
        "ids <- substring(publications[,1], 17)\n",
        "ids <- paste(ids, collapse = ',')\n",
        "url <- paste('https://api.datacite.org/dois?style=apa&page[size]=250&sort=created&ids=', ids, sep = '')\n",
        "response <- GET(url, accept(\"text/x-bibliography\"))\n",
        "display_markdown('## Publications')\n",
        "display_markdown(content(response, as = 'text'))\n",
        "\n",
        "ids <- substring(datasets[,1], 17)\n",
        "ids <- paste(ids, collapse = ',')\n",
        "url <- paste('https://api.datacite.org/dois?style=apa&page[size]=250&sort=created&ids=', ids, sep = '')\n",
        "response <- GET(url, accept(\"text/x-bibliography\"))\n",
        "display_markdown('## Datasets')\n",
        "display_markdown(content(response, as = 'text'))\n",
        "\n",
        "ids <- substring(softwareSourceCodes[,1], 17)\n",
        "ids <- paste(ids, collapse = ',')\n",
        "url <- paste('https://api.datacite.org/dois?style=apa&page[size]=250&sort=created&ids=', ids, sep = '')\n",
        "response <- GET(url, accept(\"text/x-bibliography\"))\n",
        "display_markdown('## Software')\n",
        "display_markdown(content(response, as = 'text'))"
      ],
      "outputs": [],
      "execution_count": null,
      "metadata": {
        "collapsed": false,
        "outputHidden": false,
        "inputHidden": false
      }
    },
    {
      "cell_type": "code",
      "source": [
        "# Generate a list of formatted citations in APA format for the references (if they are DataCite DOIs)\n",
        "\n",
        "ids <- publication_references[,1]\n",
        "ids <- paste(ids, collapse = ',')\n",
        "url <- paste('https://api.datacite.org/dois?style=apa&page[size]=250&sort=created&ids=', ids, sep = '')\n",
        "response <- GET(url, accept(\"text/x-bibliography\"))\n",
        "display_markdown('## Publication References')\n",
        "display_markdown(content(response, as = 'text'))\n",
        "\n",
        "ids <- dataset_references[,1]\n",
        "ids <- paste(ids, collapse = ',')\n",
        "url <- paste('https://api.datacite.org/dois?style=apa&page[size]=250&sort=created&ids=', ids, sep = '')\n",
        "response <- GET(url, accept(\"text/x-bibliography\"))\n",
        "display_markdown('## Dataset References')\n",
        "display_markdown(content(response, as = 'text'))  "
      ],
      "outputs": [],
      "execution_count": null,
      "metadata": {
        "collapsed": false,
        "outputHidden": false,
        "inputHidden": false
      }
    }
  ],
  "metadata": {
    "kernel_info": {
      "name": "ir"
    },
    "language_info": {
      "name": "R",
      "codemirror_mode": "r",
      "pygments_lexer": "r",
      "mimetype": "text/x-r-source",
      "file_extension": ".r",
      "version": "3.6.0"
    },
    "kernelspec": {
      "name": "ir",
      "language": "R",
      "display_name": "R"
    },
    "nteract": {
      "version": "0.15.0"
    }
  },
  "nbformat": 4,
  "nbformat_minor": 0
}